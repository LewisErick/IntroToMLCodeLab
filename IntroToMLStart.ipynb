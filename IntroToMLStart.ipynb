{
 "cells": [
  {
   "cell_type": "code",
   "execution_count": 253,
   "metadata": {
    "collapsed": true
   },
   "outputs": [],
   "source": [
    "from sklearn import linear_model\n",
    "import numpy as np\n",
    "import random\n",
    "import matplotlib.pyplot as plt\n",
    "from sklearn import preprocessing"
   ]
  },
  {
   "cell_type": "code",
   "execution_count": 254,
   "metadata": {
    "collapsed": true
   },
   "outputs": [],
   "source": [
    "houses = [\n",
    "    [10000, 200000],\n",
    "    [10050, 208000], \n",
    "    [10150, 300000],\n",
    "    [14000, 340000],\n",
    "    [15000, 500000],\n",
    "    [16000, 450000],\n",
    "    [8000, 200010],\n",
    "    [10100, 208100], \n",
    "    [12000, 300099],\n",
    "    [15555, 344100],\n",
    "    [17000, 600000],\n",
    "    [18050, 700000],\n",
    "]"
   ]
  },
  {
   "cell_type": "code",
   "execution_count": 276,
   "metadata": {
    "collapsed": true
   },
   "outputs": [],
   "source": [
    "cells = [[10, 500], \n",
    "         [20, 700], \n",
    "         [30, 800], \n",
    "         [40, 1000], \n",
    "         [90, 100], \n",
    "         [100, 0],\n",
    "         [5, 490], \n",
    "         [22, 685], \n",
    "         [37, 960], \n",
    "         [41, 1001], \n",
    "         [93, 102], \n",
    "         [100, 2]]"
   ]
  },
  {
   "cell_type": "code",
   "execution_count": 336,
   "metadata": {
    "collapsed": true
   },
   "outputs": [],
   "source": [
    "# chips, diameter, thickness, uniformity of chip distribution \n",
    "cookies = [\n",
    "    [3, 5, 0.5, 0.50, 1],\n",
    "    [0, 7, 0, 0, 0],\n",
    "    [5, 12, 1, 0.5, 1],\n",
    "    [1, 8, 0, 0.1, 0],\n",
    "    [10, 30, 0.2, 0.3, 1],\n",
    "    [5, 20, 0.5, 0.1, 0],\n",
    "    [1, 8, 0, 0.1, 0],\n",
    "    [20, 9, 0.8, 0.45, 1],\n",
    "    [5, 20, 0.5, 0.1, 0],\n",
    "    [7, 27, 0.3, 0.5, 1],\n",
    "]"
   ]
  }
 ],
 "metadata": {
  "kernelspec": {
   "display_name": "Python 2",
   "language": "python",
   "name": "python2"
  },
  "language_info": {
   "codemirror_mode": {
    "name": "ipython",
    "version": 2
   },
   "file_extension": ".py",
   "mimetype": "text/x-python",
   "name": "python",
   "nbconvert_exporter": "python",
   "pygments_lexer": "ipython2",
   "version": "2.7.12"
  }
 },
 "nbformat": 4,
 "nbformat_minor": 2
}
