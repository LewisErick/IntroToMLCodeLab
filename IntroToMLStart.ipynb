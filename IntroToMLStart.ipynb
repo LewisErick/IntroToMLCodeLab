{
 "cells": [
  {
   "cell_type": "code",
   "execution_count": 1,
   "metadata": {
    "collapsed": true
   },
   "outputs": [],
   "source": [
    "import sklearn\n",
    "import numpy as np"
   ]
  },
  {
   "cell_type": "code",
   "execution_count": 2,
   "metadata": {
    "collapsed": true
   },
   "outputs": [],
   "source": [
    "# Linear Regression\n",
    "\n",
    "# Our variables (x)'s: area, pools, stories (pisos) = features\n",
    "# Our y = price\n",
    "\n",
    "houses = [[10000, 0, 1, 200000], [500000, 0, 2, 1000000], [650000, 1, 2, 1780000], [2000000, 0, 2, 8000000],\n",
    "             [2100000, 1, 3, 15555000], [40000000, 3, 3, 200780008], [13005, 1, 1, 200500], \n",
    "             [1000, 0, 1, 50000], [450000, 1, 1, 1200000], [1100000, 1, 1, 10000000],\n",
    "             [5050500, 0, 2,20000000], [1000000000, 3, 3, 1000200550001]]"
   ]
  },
  {
   "cell_type": "code",
   "execution_count": 3,
   "metadata": {},
   "outputs": [],
   "source": [
    "# Polynomial Regression\n",
    "\n",
    "# Producción de células\n",
    "\n",
    "cells = [[10, 500], [20, 700], [30, 800], [40, 850], [90, 1], [150, 0]]\n",
    "\n",
    "cells_x2 = [[10, 100, 500], [20, 400, 700], [30, 900, 800], [40, 1600, 850], [90, 8100, 1], [150, 22500, 0]]"
   ]
  },
  {
   "cell_type": "code",
   "execution_count": 4,
   "metadata": {
    "collapsed": true
   },
   "outputs": [],
   "source": [
    "# Logistic Regression (decision boundary)\n",
    "\n",
    "# Number of chocolate chips, size (diameter in cm), thickness, \n",
    "# distribution (0% very separated, 100% very close chips to each other) -> delicious?\n",
    "\n",
    "delicious = [\n",
    "    [3, 5, 0.5, 0.50, 0.75],\n",
    "    [0, 7, 0, 0, 0.25],\n",
    "    [15, 12, 1, 0.5, 0.99],\n",
    "    [5, 20, 0.3, 0.6, 0.8],\n",
    "    [10, 30, 0.2, 0.3, 0.6],\n",
    "    [5, 5, 0.4, 0.45, 0.68],\n",
    "    [1, 8, 0, 0.1, 0.35],\n",
    "    [20, 11, 0.8, 0.45, 0.6],\n",
    "    [50, 20, 0.5, 0.1, 0.5],\n",
    "    [8, 27, 0.3, 0.5, 0.7]\n",
    "]"
   ]
  },
  {
   "cell_type": "code",
   "execution_count": 5,
   "metadata": {},
   "outputs": [],
   "source": [
    "# Logistic Regression is the basis for classification! :) (Multiple classes in logistic regression)\n",
    "# Show 'em some neural nets so they \n",
    "\n",
    "# One vs All approach\n",
    "\n",
    "colors_cyan = [\n",
    "    [66, 235, 244, 1.0],\n",
    "    [65, 119, 244, 0.75],\n",
    "    [229, 65, 244, 0.5],\n",
    "    [244, 65, 65, 0.1],\n",
    "    [244, 160, 65, 0],\n",
    "    [244, 241, 65, 0.2],\n",
    "    [76, 244, 65, 0.6]\n",
    "    \n",
    "]\n",
    "\n",
    "color_pink = [\n",
    "    [66, 235, 244, 0.25],\n",
    "    [65, 119, 244, 0.5],\n",
    "    [229, 65, 244, 1],\n",
    "    [244, 65, 65, 0.75],\n",
    "    [244, 160, 65, 0.4],\n",
    "    [244, 241, 65, 0.2],\n",
    "    [76, 244, 65, 0.1]\n",
    "]\n",
    "\n",
    "color_yellow = [\n",
    "    [66, 235, 244, 0.25],\n",
    "    [65, 119, 244, 0.1],\n",
    "    [229, 65, 244, 0],\n",
    "    [244, 65, 65, 0.2],\n",
    "    [244, 160, 65, 0.8],\n",
    "    [244, 241, 65, 1],\n",
    "    [76, 244, 65, 0.3]\n",
    "]"
   ]
  }
 ],
 "metadata": {
  "kernelspec": {
   "display_name": "Python 2",
   "language": "python",
   "name": "python2"
  },
  "language_info": {
   "codemirror_mode": {
    "name": "ipython",
    "version": 2
   },
   "file_extension": ".py",
   "mimetype": "text/x-python",
   "name": "python",
   "nbconvert_exporter": "python",
   "pygments_lexer": "ipython2",
   "version": "2.7.12"
  }
 },
 "nbformat": 4,
 "nbformat_minor": 2
}
