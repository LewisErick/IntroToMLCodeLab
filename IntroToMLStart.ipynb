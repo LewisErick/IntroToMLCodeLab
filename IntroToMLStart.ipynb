{
 "cells": [
  {
   "cell_type": "code",
   "execution_count": 4,
   "metadata": {
    "collapsed": true
   },
   "outputs": [],
   "source": [
    "from sklearn import linear_model\n",
    "import numpy as np\n",
    "import random\n",
    "import matplotlib.pyplot as plt\n",
    "from sklearn import preprocessing"
   ]
  },
  {
   "cell_type": "code",
   "execution_count": 24,
   "metadata": {
    "collapsed": true
   },
   "outputs": [],
   "source": [
    "houses = [\n",
    "    [10000, 200000],\n",
    "    [10050, 208000], \n",
    "    [10150, 300000],\n",
    "    [14000, 340000],\n",
    "    [15000, 500000],\n",
    "    [16000, 450000],\n",
    "    [8000, 200010],\n",
    "    [10100, 208100], \n",
    "    [12000, 300099],\n",
    "    [15555, 344100],\n",
    "    [17000, 600000],\n",
    "    [18050, 700000],\n",
    "]"
   ]
  },
  {
   "cell_type": "code",
   "execution_count": 25,
   "metadata": {},
   "outputs": [],
   "source": [
    "random.shuffle(houses)"
   ]
  },
  {
   "cell_type": "code",
   "execution_count": 26,
   "metadata": {},
   "outputs": [
    {
     "data": {
      "text/plain": [
       "[[14000, 340000],\n",
       " [10100, 208100],\n",
       " [8000, 200010],\n",
       " [17000, 600000],\n",
       " [10000, 200000],\n",
       " [15555, 344100],\n",
       " [12000, 300099],\n",
       " [10150, 300000],\n",
       " [18050, 700000],\n",
       " [15000, 500000],\n",
       " [10050, 208000],\n",
       " [16000, 450000]]"
      ]
     },
     "execution_count": 26,
     "metadata": {},
     "output_type": "execute_result"
    }
   ],
   "source": [
    "houses"
   ]
  },
  {
   "cell_type": "code",
   "execution_count": 27,
   "metadata": {},
   "outputs": [],
   "source": [
    "houses = np.matrix(houses)\n",
    "\n",
    "houses_x_train = houses[0:6, 0]\n",
    "houses_y_train = houses[0:6, 1]\n",
    "\n",
    "houses_x_test = houses[6:, 0]\n",
    "houses_y_test = houses[6:, 1]"
   ]
  },
  {
   "cell_type": "code",
   "execution_count": 28,
   "metadata": {
    "collapsed": true
   },
   "outputs": [],
   "source": [
    "houses_linear = linear_model.LinearRegression()"
   ]
  },
  {
   "cell_type": "code",
   "execution_count": 29,
   "metadata": {},
   "outputs": [
    {
     "data": {
      "text/plain": [
       "LinearRegression(copy_X=True, fit_intercept=True, n_jobs=1, normalize=False)"
      ]
     },
     "execution_count": 29,
     "metadata": {},
     "output_type": "execute_result"
    }
   ],
   "source": [
    "houses_linear.fit(houses_x_train, houses_y_train)"
   ]
  },
  {
   "cell_type": "code",
   "execution_count": 30,
   "metadata": {
    "collapsed": true
   },
   "outputs": [],
   "source": [
    "houses_y_test_pred = houses_linear.predict(houses_x_test)"
   ]
  },
  {
   "cell_type": "code",
   "execution_count": 31,
   "metadata": {},
   "outputs": [
    {
     "data": {
      "text/plain": [
       "array([[ 298306.35886176],\n",
       "       [ 226973.81022353],\n",
       "       [ 531583.07197596],\n",
       "       [ 413980.76205888],\n",
       "       [ 223117.99678363],\n",
       "       [ 452538.89645792]])"
      ]
     },
     "execution_count": 31,
     "metadata": {},
     "output_type": "execute_result"
    }
   ],
   "source": [
    "houses_y_test_pred"
   ]
  },
  {
   "cell_type": "code",
   "execution_count": 32,
   "metadata": {},
   "outputs": [],
   "source": [
    "plot_x = np.ravel(houses_x_test)\n",
    "plot_y = np.ravel(houses_y_test)\n",
    "plot_y_pred = houses_y_test_pred\n",
    "\n",
    "order = np.argsort(plot_x)\n",
    "plot_x = np.array(plot_x)[order]\n",
    "plot_y = np.array(plot_y)[order]\n",
    "plot_y_pred = np.array(plot_y_pred)[order]"
   ]
  },
  {
   "cell_type": "code",
   "execution_count": 33,
   "metadata": {},
   "outputs": [
    {
     "data": {
      "image/png": "[encoded data removed]",
      "text/plain": [
       "<matplotlib.figure.Figure at 0x7fc98f878110>"
      ]
     },
     "metadata": {},
     "output_type": "display_data"
    }
   ],
   "source": [
    "plt.scatter(plot_x, plot_y, color=\"black\")\n",
    "plt.plot(plot_x, plot_y_pred, color=\"red\")\n",
    "plt.show()"
   ]
  },
  {
   "cell_type": "code",
   "execution_count": 276,
   "metadata": {
    "collapsed": true
   },
   "outputs": [],
   "source": [
    "cells = [[10, 500], \n",
    "         [20, 700], \n",
    "         [30, 800], \n",
    "         [40, 1000], \n",
    "         [90, 100], \n",
    "         [100, 0],\n",
    "         [5, 490], \n",
    "         [22, 685], \n",
    "         [37, 960], \n",
    "         [41, 1001], \n",
    "         [93, 102], \n",
    "         [100, 2]]"
   ]
  },
  {
   "cell_type": "code",
   "execution_count": 336,
   "metadata": {
    "collapsed": true
   },
   "outputs": [],
   "source": [
    "# chips, diameter, thickness, uniformity of chip distribution \n",
    "cookies = [\n",
    "    [3, 5, 0.5, 0.50, 1],\n",
    "    [0, 7, 0, 0, 0],\n",
    "    [5, 12, 1, 0.5, 1],\n",
    "    [1, 8, 0, 0.1, 0],\n",
    "    [10, 30, 0.2, 0.3, 1],\n",
    "    [5, 20, 0.5, 0.1, 0],\n",
    "    [1, 8, 0, 0.1, 0],\n",
    "    [20, 9, 0.8, 0.45, 1],\n",
    "    [5, 20, 0.5, 0.1, 0],\n",
    "    [7, 27, 0.3, 0.5, 1],\n",
    "]"
   ]
  }
 ],
 "metadata": {
  "kernelspec": {
   "display_name": "Python 2",
   "language": "python",
   "name": "python2"
  },
  "language_info": {
   "codemirror_mode": {
    "name": "ipython",
    "version": 2
   },
   "file_extension": ".py",
   "mimetype": "text/x-python",
   "name": "python",
   "nbconvert_exporter": "python",
   "pygments_lexer": "ipython2",
   "version": "2.7.12"
  }
 },
 "nbformat": 4,
 "nbformat_minor": 2
}
