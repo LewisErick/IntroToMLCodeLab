{
 "cells": [
  {
   "cell_type": "code",
   "execution_count": 253,
   "metadata": {
    "collapsed": true
   },
   "outputs": [],
   "source": [
    "from sklearn import linear_model\n",
    "import numpy as np\n",
    "import random\n",
    "import matplotlib.pyplot as plt\n",
    "from sklearn import preprocessing"
   ]
  },
  {
   "cell_type": "code",
   "execution_count": 254,
   "metadata": {
    "collapsed": true
   },
   "outputs": [],
   "source": [
    "houses = [\n",
    "    [10000, 200000],\n",
    "    [10050, 208000], \n",
    "    [10150, 300000],\n",
    "    [14000, 340000],\n",
    "    [15000, 500000],\n",
    "    [16000, 450000],\n",
    "    [8000, 200010],\n",
    "    [10100, 208100], \n",
    "    [12000, 300099],\n",
    "    [15555, 344100],\n",
    "    [17000, 600000],\n",
    "    [18050, 700000],\n",
    "]"
   ]
  },
  {
   "cell_type": "code",
   "execution_count": 255,
   "metadata": {
    "collapsed": true
   },
   "outputs": [],
   "source": [
    "random.shuffle(houses)\n",
    "houses = np.matrix(houses)"
   ]
  },
  {
   "cell_type": "code",
   "execution_count": 256,
   "metadata": {
    "collapsed": true
   },
   "outputs": [],
   "source": [
    "houses_x_train = houses[0:6, 0]\n",
    "houses_y_train = houses[0:6, 1]\n",
    "\n",
    "houses_x_test = houses[6:, 0]\n",
    "houses_y_test = houses[6:, 1]"
   ]
  },
  {
   "cell_type": "code",
   "execution_count": 257,
   "metadata": {},
   "outputs": [
    {
     "data": {
      "text/plain": [
       "matrix([[16000],\n",
       "        [15555],\n",
       "        [10100],\n",
       "        [ 8000],\n",
       "        [10000],\n",
       "        [14000]])"
      ]
     },
     "execution_count": 257,
     "metadata": {},
     "output_type": "execute_result"
    }
   ],
   "source": [
    "houses_x_train"
   ]
  },
  {
   "cell_type": "code",
   "execution_count": 258,
   "metadata": {},
   "outputs": [
    {
     "data": {
      "text/plain": [
       "matrix([[450000],\n",
       "        [344100],\n",
       "        [208100],\n",
       "        [200010],\n",
       "        [200000],\n",
       "        [340000]])"
      ]
     },
     "execution_count": 258,
     "metadata": {},
     "output_type": "execute_result"
    }
   ],
   "source": [
    "houses_y_train"
   ]
  },
  {
   "cell_type": "code",
   "execution_count": 259,
   "metadata": {},
   "outputs": [
    {
     "data": {
      "text/plain": [
       "matrix([[15000],\n",
       "        [12000],\n",
       "        [10150],\n",
       "        [10050],\n",
       "        [17000],\n",
       "        [18050]])"
      ]
     },
     "execution_count": 259,
     "metadata": {},
     "output_type": "execute_result"
    }
   ],
   "source": [
    "houses_x_test"
   ]
  },
  {
   "cell_type": "code",
   "execution_count": 260,
   "metadata": {},
   "outputs": [
    {
     "data": {
      "text/plain": [
       "matrix([[500000],\n",
       "        [300099],\n",
       "        [300000],\n",
       "        [208000],\n",
       "        [600000],\n",
       "        [700000]])"
      ]
     },
     "execution_count": 260,
     "metadata": {},
     "output_type": "execute_result"
    }
   ],
   "source": [
    "houses_y_test"
   ]
  },
  {
   "cell_type": "code",
   "execution_count": 261,
   "metadata": {
    "collapsed": true
   },
   "outputs": [],
   "source": [
    "houses_price_model = linear_model.LinearRegression()"
   ]
  },
  {
   "cell_type": "code",
   "execution_count": 262,
   "metadata": {},
   "outputs": [
    {
     "data": {
      "text/plain": [
       "LinearRegression(copy_X=True, fit_intercept=True, n_jobs=1, normalize=False)"
      ]
     },
     "execution_count": 262,
     "metadata": {},
     "output_type": "execute_result"
    }
   ],
   "source": [
    "houses_price_model.fit(houses_x_train, houses_y_train)"
   ]
  },
  {
   "cell_type": "code",
   "execution_count": 263,
   "metadata": {
    "collapsed": true
   },
   "outputs": [],
   "source": [
    "houses_y_test_pred = houses_price_model.predict(houses_x_test)"
   ]
  },
  {
   "cell_type": "code",
   "execution_count": 264,
   "metadata": {
    "collapsed": true
   },
   "outputs": [],
   "source": [
    "plot_x = np.ravel(houses_x_test)\n",
    "plot_y = np.ravel(houses_y_test)\n",
    "plot_pred_y = np.ravel(houses_y_test_pred)"
   ]
  },
  {
   "cell_type": "code",
   "execution_count": 265,
   "metadata": {
    "collapsed": true
   },
   "outputs": [],
   "source": [
    "order = np.argsort(plot_x)\n",
    "plot_x = np.array(plot_x)[order]\n",
    "plot_y = np.array(plot_y)[order]\n",
    "plot_pred_y = np.array(plot_pred_y)[order]"
   ]
  },
  {
   "cell_type": "code",
   "execution_count": 266,
   "metadata": {},
   "outputs": [
    {
     "data": {
      "image/png": "[encoded data removed]",
      "text/plain": [
       "<matplotlib.figure.Figure at 0x7f677f6227d0>"
      ]
     },
     "metadata": {},
     "output_type": "display_data"
    }
   ],
   "source": [
    "plt.scatter(plot_x, plot_y, color=\"black\")\n",
    "plt.plot(plot_x, plot_pred_y, color=\"red\")\n",
    "plt.show()"
   ]
  },
  {
   "cell_type": "code",
   "execution_count": 267,
   "metadata": {
    "collapsed": true
   },
   "outputs": [],
   "source": [
    "cells = [[10, 500], \n",
    "         [20, 700], \n",
    "         [30, 800], \n",
    "         [40, 1000], \n",
    "         [90, 100], \n",
    "         [100, 0],\n",
    "         [5, 490], \n",
    "         [22, 685], \n",
    "         [37, 960], \n",
    "         [41, 1001], \n",
    "         [93, 102], \n",
    "         [100, 2]]\n",
    "random.shuffle(cells)\n",
    "cells = np.matrix(cells)"
   ]
  },
  {
   "cell_type": "code",
   "execution_count": 268,
   "metadata": {},
   "outputs": [
    {
     "data": {
      "text/plain": [
       "matrix([[  41, 1001],\n",
       "        [  90,  100],\n",
       "        [   5,  490],\n",
       "        [  22,  685],\n",
       "        [  37,  960],\n",
       "        [  30,  800],\n",
       "        [  10,  500],\n",
       "        [ 100,    0],\n",
       "        [  20,  700],\n",
       "        [  93,  102],\n",
       "        [ 100,    2],\n",
       "        [  40, 1000]])"
      ]
     },
     "execution_count": 268,
     "metadata": {},
     "output_type": "execute_result"
    }
   ],
   "source": [
    "cells"
   ]
  },
  {
   "cell_type": "code",
   "execution_count": 269,
   "metadata": {
    "collapsed": true
   },
   "outputs": [],
   "source": [
    "cells_x_train = cells[0:6, 0]\n",
    "cells_y_train = cells[0:6, 1]"
   ]
  },
  {
   "cell_type": "code",
   "execution_count": 270,
   "metadata": {
    "collapsed": true
   },
   "outputs": [],
   "source": [
    "cells_x_test = cells[6:, 0]\n",
    "cells_y_test = cells[6:, 1]"
   ]
  },
  {
   "cell_type": "code",
   "execution_count": 271,
   "metadata": {},
   "outputs": [
    {
     "data": {
      "text/plain": [
       "LinearRegression(copy_X=True, fit_intercept=True, n_jobs=1, normalize=False)"
      ]
     },
     "execution_count": 271,
     "metadata": {},
     "output_type": "execute_result"
    }
   ],
   "source": [
    "cells_model = linear_model.LinearRegression()\n",
    "cells_model.fit(cells_x_train, cells_y_train)"
   ]
  },
  {
   "cell_type": "code",
   "execution_count": 272,
   "metadata": {
    "collapsed": true
   },
   "outputs": [],
   "source": [
    "cells_y_test_pred = cells_model.predict(cells_x_test)"
   ]
  },
  {
   "cell_type": "code",
   "execution_count": 273,
   "metadata": {
    "collapsed": true
   },
   "outputs": [],
   "source": [
    "plot_x = np.ravel(cells_x_test)\n",
    "plot_y = np.ravel(cells_y_test)\n",
    "plot_pred_y = np.ravel(cells_y_test_pred)"
   ]
  },
  {
   "cell_type": "code",
   "execution_count": 274,
   "metadata": {
    "collapsed": true
   },
   "outputs": [],
   "source": [
    "order = np.argsort(plot_x)\n",
    "plot_x = np.array(plot_x)[order]\n",
    "plot_y = np.array(plot_y)[order]\n",
    "plot_pred_y = np.array(plot_pred_y)[order]"
   ]
  },
  {
   "cell_type": "code",
   "execution_count": 275,
   "metadata": {},
   "outputs": [
    {
     "data": {
      "image/png": "[encoded data removed]",
      "text/plain": [
       "<matplotlib.figure.Figure at 0x7f677f376690>"
      ]
     },
     "metadata": {},
     "output_type": "display_data"
    }
   ],
   "source": [
    "plt.scatter(plot_x, plot_y, color=\"black\")\n",
    "plt.plot(plot_x, plot_pred_y, color=\"red\")\n",
    "plt.show()"
   ]
  },
  {
   "cell_type": "code",
   "execution_count": 276,
   "metadata": {
    "collapsed": true
   },
   "outputs": [],
   "source": [
    "cells = [[10, 500], \n",
    "         [20, 700], \n",
    "         [30, 800], \n",
    "         [40, 1000], \n",
    "         [90, 100], \n",
    "         [100, 0],\n",
    "         [5, 490], \n",
    "         [22, 685], \n",
    "         [37, 960], \n",
    "         [41, 1001], \n",
    "         [93, 102], \n",
    "         [100, 2]]"
   ]
  },
  {
   "cell_type": "code",
   "execution_count": 277,
   "metadata": {},
   "outputs": [],
   "source": [
    "for training_example in cells:\n",
    "    training_example.insert(1, training_example[0]**2)"
   ]
  },
  {
   "cell_type": "code",
   "execution_count": 278,
   "metadata": {},
   "outputs": [
    {
     "data": {
      "text/plain": [
       "[[10, 100, 500],\n",
       " [20, 400, 700],\n",
       " [30, 900, 800],\n",
       " [40, 1600, 1000],\n",
       " [90, 8100, 100],\n",
       " [100, 10000, 0],\n",
       " [5, 25, 490],\n",
       " [22, 484, 685],\n",
       " [37, 1369, 960],\n",
       " [41, 1681, 1001],\n",
       " [93, 8649, 102],\n",
       " [100, 10000, 2]]"
      ]
     },
     "execution_count": 278,
     "metadata": {},
     "output_type": "execute_result"
    }
   ],
   "source": [
    "cells"
   ]
  },
  {
   "cell_type": "code",
   "execution_count": 279,
   "metadata": {
    "collapsed": true
   },
   "outputs": [],
   "source": [
    "random.shuffle(cells)\n",
    "cells = np.matrix(cells)"
   ]
  },
  {
   "cell_type": "code",
   "execution_count": 280,
   "metadata": {
    "collapsed": true
   },
   "outputs": [],
   "source": [
    "cells_x_train = cells[0:6, 0:2]\n",
    "cells_y_train = cells[0:6, 2]"
   ]
  },
  {
   "cell_type": "code",
   "execution_count": 281,
   "metadata": {
    "collapsed": true
   },
   "outputs": [],
   "source": [
    "cells_x_test = cells[6:, 0:2]\n",
    "cells_y_test = cells[6:, 2]"
   ]
  },
  {
   "cell_type": "code",
   "execution_count": 282,
   "metadata": {},
   "outputs": [
    {
     "data": {
      "text/plain": [
       "LinearRegression(copy_X=True, fit_intercept=True, n_jobs=1, normalize=False)"
      ]
     },
     "execution_count": 282,
     "metadata": {},
     "output_type": "execute_result"
    }
   ],
   "source": [
    "new_cells_model = linear_model.LinearRegression()\n",
    "new_cells_model.fit(cells_x_train, cells_y_train)"
   ]
  },
  {
   "cell_type": "code",
   "execution_count": 283,
   "metadata": {},
   "outputs": [],
   "source": [
    "cells_y_test_pred = new_cells_model.predict(cells_x_test)"
   ]
  },
  {
   "cell_type": "code",
   "execution_count": 284,
   "metadata": {
    "collapsed": true
   },
   "outputs": [],
   "source": [
    "plot_x = np.ravel(cells_x_test[:,0])\n",
    "plot_y = np.ravel(cells_y_test)\n",
    "plot_pred_y = np.ravel(cells_y_test_pred)"
   ]
  },
  {
   "cell_type": "code",
   "execution_count": 285,
   "metadata": {},
   "outputs": [],
   "source": [
    "order = np.argsort(plot_x)\n",
    "plot_x = np.array(plot_x)[order]\n",
    "plot_y = np.array(plot_y)[order]\n",
    "plot_pred_y = np.array(plot_pred_y)[order]"
   ]
  },
  {
   "cell_type": "code",
   "execution_count": 286,
   "metadata": {},
   "outputs": [
    {
     "data": {
      "image/png": "[encoded data removed]",
      "text/plain": [
       "<matplotlib.figure.Figure at 0x7f677f221bd0>"
      ]
     },
     "metadata": {},
     "output_type": "display_data"
    }
   ],
   "source": [
    "plt.scatter(plot_x, plot_y, color=\"black\")\n",
    "plt.plot(plot_x, plot_pred_y, color=\"red\")\n",
    "plt.show()"
   ]
  },
  {
   "cell_type": "code",
   "execution_count": 336,
   "metadata": {
    "collapsed": true
   },
   "outputs": [],
   "source": [
    "# chips, diameter, thickness, uniformity of chip distribution \n",
    "cookies = [\n",
    "    [3, 5, 0.5, 0.50, 1],\n",
    "    [0, 7, 0, 0, 0],\n",
    "    [5, 12, 1, 0.5, 1],\n",
    "    [1, 8, 0, 0.1, 0],\n",
    "    [10, 30, 0.2, 0.3, 1],\n",
    "    [5, 20, 0.5, 0.1, 0],\n",
    "    [1, 8, 0, 0.1, 0],\n",
    "    [20, 9, 0.8, 0.45, 1],\n",
    "    [5, 20, 0.5, 0.1, 0],\n",
    "    [7, 27, 0.3, 0.5, 1],\n",
    "]"
   ]
  },
  {
   "cell_type": "code",
   "execution_count": 337,
   "metadata": {
    "collapsed": true
   },
   "outputs": [],
   "source": [
    "random.shuffle(cookies)"
   ]
  },
  {
   "cell_type": "code",
   "execution_count": 338,
   "metadata": {
    "collapsed": true
   },
   "outputs": [],
   "source": [
    "cookies = np.array(cookies)"
   ]
  },
  {
   "cell_type": "code",
   "execution_count": 339,
   "metadata": {
    "collapsed": true
   },
   "outputs": [],
   "source": [
    "cookies_x_train = cookies[0:5, 0:4]\n",
    "cookies_y_train = cookies[0:5, 4]"
   ]
  },
  {
   "cell_type": "code",
   "execution_count": 340,
   "metadata": {
    "collapsed": true
   },
   "outputs": [],
   "source": [
    "cookies_x_test = cookies[5:, 0:4]\n",
    "cookies_y_test = cookies[5:, 4]"
   ]
  },
  {
   "cell_type": "code",
   "execution_count": 341,
   "metadata": {},
   "outputs": [
    {
     "data": {
      "text/plain": [
       "LinearRegression(copy_X=True, fit_intercept=True, n_jobs=1, normalize=False)"
      ]
     },
     "execution_count": 341,
     "metadata": {},
     "output_type": "execute_result"
    }
   ],
   "source": [
    "cookies_linear = linear_model.LinearRegression()\n",
    "cookies_linear.fit(cookies_x_train, cookies_y_train)"
   ]
  },
  {
   "cell_type": "code",
   "execution_count": 342,
   "metadata": {
    "collapsed": true
   },
   "outputs": [],
   "source": [
    "cookies_linear_test_pred = cookies_linear.predict(cookies_x_test)"
   ]
  },
  {
   "cell_type": "code",
   "execution_count": 343,
   "metadata": {},
   "outputs": [],
   "source": [
    "plot_x = cookies_x_test[:, 0]\n",
    "plot_y = cookies_y_test\n",
    "plot_pred_y = cookies_linear_test_pred"
   ]
  },
  {
   "cell_type": "code",
   "execution_count": 344,
   "metadata": {
    "collapsed": true
   },
   "outputs": [],
   "source": [
    "order = np.argsort(plot_x)\n",
    "plot_x = np.array(plot_x)[order]\n",
    "plot_y = np.array(plot_y)[order]\n",
    "plot_pred_y = np.array(plot_pred_y)[order]"
   ]
  },
  {
   "cell_type": "code",
   "execution_count": 345,
   "metadata": {},
   "outputs": [
    {
     "data": {
      "image/png": "[encoded data removed]",
      "text/plain": [
       "<matplotlib.figure.Figure at 0x7f677f71e090>"
      ]
     },
     "metadata": {},
     "output_type": "display_data"
    }
   ],
   "source": [
    "plt.scatter(plot_x, plot_y, color=\"black\")\n",
    "plt.plot(plot_x, plot_pred_y, color=\"red\")\n",
    "plt.show()"
   ]
  },
  {
   "cell_type": "code",
   "execution_count": 346,
   "metadata": {
    "collapsed": true
   },
   "outputs": [],
   "source": [
    "cookies_logistic = linear_model.LogisticRegression()"
   ]
  },
  {
   "cell_type": "code",
   "execution_count": 347,
   "metadata": {},
   "outputs": [
    {
     "data": {
      "text/plain": [
       "LogisticRegression(C=1.0, class_weight=None, dual=False, fit_intercept=True,\n",
       "          intercept_scaling=1, max_iter=100, multi_class='ovr', n_jobs=1,\n",
       "          penalty='l2', random_state=None, solver='liblinear', tol=0.0001,\n",
       "          verbose=0, warm_start=False)"
      ]
     },
     "execution_count": 347,
     "metadata": {},
     "output_type": "execute_result"
    }
   ],
   "source": [
    "cookies_logistic.fit(cookies_x_train, cookies_y_train)"
   ]
  },
  {
   "cell_type": "code",
   "execution_count": 348,
   "metadata": {
    "collapsed": true
   },
   "outputs": [],
   "source": [
    "cookies_logistic_test_pred = cookies_logistic.predict(cookies_x_test)"
   ]
  },
  {
   "cell_type": "code",
   "execution_count": 349,
   "metadata": {
    "collapsed": true
   },
   "outputs": [],
   "source": [
    "plot_x = cookies_x_test[:, 0]\n",
    "plot_y = cookies_y_test\n",
    "plot_pred_y = cookies_logistic_test_pred"
   ]
  },
  {
   "cell_type": "code",
   "execution_count": 350,
   "metadata": {
    "collapsed": true
   },
   "outputs": [],
   "source": [
    "order = np.argsort(plot_x)\n",
    "plot_x = np.array(plot_x)[order]\n",
    "plot_y = np.array(plot_y)[order]\n",
    "plot_pred_y = np.array(plot_pred_y)[order]"
   ]
  },
  {
   "cell_type": "code",
   "execution_count": 351,
   "metadata": {},
   "outputs": [
    {
     "data": {
      "image/png": "[encoded data removed]",
      "text/plain": [
       "<matplotlib.figure.Figure at 0x7f677f538050>"
      ]
     },
     "metadata": {},
     "output_type": "display_data"
    }
   ],
   "source": [
    "plt.scatter(plot_x, plot_y, color=\"black\", alpha = 0.2)\n",
    "plt.scatter(plot_x, plot_pred_y, color=\"red\")\n",
    "plt.show()"
   ]
  },
  {
   "cell_type": "code",
   "execution_count": null,
   "metadata": {
    "collapsed": true
   },
   "outputs": [],
   "source": []
  }
 ],
 "metadata": {
  "kernelspec": {
   "display_name": "Python 2",
   "language": "python",
   "name": "python2"
  },
  "language_info": {
   "codemirror_mode": {
    "name": "ipython",
    "version": 2
   },
   "file_extension": ".py",
   "mimetype": "text/x-python",
   "name": "python",
   "nbconvert_exporter": "python",
   "pygments_lexer": "ipython2",
   "version": "2.7.12"
  }
 },
 "nbformat": 4,
 "nbformat_minor": 2
}
